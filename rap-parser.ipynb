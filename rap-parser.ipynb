{
 "cells": [
  {
   "cell_type": "markdown",
   "metadata": {
    "deletable": true,
    "editable": true
   },
   "source": [
    "# Probabilstic Rap Freestyler:  85-426 Final Project "
   ]
  },
  {
   "cell_type": "markdown",
   "metadata": {},
   "source": [
    "![title](img/best16.png)"
   ]
  },
  {
   "cell_type": "markdown",
   "metadata": {},
   "source": [
    "# Abstract"
   ]
  },
  {
   "cell_type": "markdown",
   "metadata": {},
   "source": [
    "The field of Natural Language Generation has a very wide range of applications for hobbys such as chat-bots, and song or poetry lyric generators. I created a probabilistic model for freestlye rap that is an n-gram model variant and learns from lyrical-data from the discography of specific rap artists.\n",
    "\n",
    "Most previous attempts to build a program that can generate new rap lyrics have used various types of neural networks Potash 2015, Malmi 2016.\n",
    "Although neural networks have more more popular language generation, I hypothesized that building a generative rap model with simple maximum likelihood estimation would be a feasible methods of producing impressive results. The limiting factor in most raps is not the lyrical content but the strict rhyme rules that songs must abide by.  Developing a probabilstic model that considers the explicit \n",
    "\n",
    "This paper qualitatively demonstrates that the most impressive elements of rap lyric generation from neural networks can be accounted  for the cognitive process of freestyle rap, a simple maximum likelihood evaluation model, a modified version of the typical n-gram model will suffice in the ability to generate meaningful and impressive rap lyrics.  "
   ]
  },
  {
   "cell_type": "markdown",
   "metadata": {},
   "source": [
    "# Introduction:"
   ]
  },
  {
   "cell_type": "markdown",
   "metadata": {
    "deletable": true,
    "editable": true
   },
   "source": [
    "Rap is a widely popular genre of music. In many ways, its uniqueness as a genre is defined by the lyrics written by the rappers. \n",
    "\n",
    "Freestyle rap is a cognitive process in which rappers spontaneouly come up with meaningful lyrics condensed into lines, (also known as bars). In order for a freestyle to be considered legitament, it's required that these lines not only rhyme together but also make sense together. Freestyling is impressive, because of the amount of rules that a rapper needs to follow in order to sound \"fresh\".\n",
    "\n",
    "However, the more someone freestlyes, the easier it is for them to improvise. The limiting factor to one's freestyle ability is usually their \"rhyme dictionary\", which refers to groups of words that rhyme together.\n",
    "\n",
    "(A novice rhyme dictionary will include a very limited number of rhymes: cool, school, and pool. \n",
    "\n",
    "The rhyme dictionary is important for two reasons: \n",
    "\n",
    "1. It allows freestylers with direct access to words that obey the most important rule of rap(rhyming), which otherwise is a very taxing search problem. \n",
    "\n",
    "2. Capturing semantic meaning is not only difficult for computers, it is also a very difficult task for rappers who are operating under the very limiting constraints of rhymes. Because of this, words in rhyme dictionaries, automatically determine a meaning for the rapper. \n",
    "\n",
    "I was really motivated by the second point. I assumed that as long as I sampled from rhymes that the rapper previously used in songs, there would be enough semantic consistency in order for the newly generated rhyme to make a decent amount of sense. \n",
    "\n",
    "\n",
    "\n"
   ]
  },
  {
   "cell_type": "code",
   "execution_count": 560,
   "metadata": {
    "collapsed": false,
    "deletable": true,
    "editable": true
   },
   "outputs": [],
   "source": [
    "import pronouncing as pr\n",
    "import re\n",
    "import numpy as np\n",
    "import matplotlib.pyplot as plt\n",
    "from wordcloud import WordCloud\n",
    "from collections import *\n",
    "from random import *\n",
    "import json"
   ]
  },
  {
   "cell_type": "markdown",
   "metadata": {
    "deletable": true,
    "editable": true
   },
   "source": [
    "# References"
   ]
  },
  {
   "cell_type": "markdown",
   "metadata": {
    "deletable": true,
    "editable": true
   },
   "source": [
    "CMU Pronouncing Dictionary at CMU: \n",
    "1. http://www.speech.cs.cmu.edu/cgi-bin/cmudict\n",
    "\n",
    "A simple interface for the CMU pronouncing dictionary:\n",
    "\n",
    "1. https://github.com/aparrish/pronouncingpy\n",
    "2. https://pronouncing.readthedocs.io/en/latest/\n",
    "\n",
    "Rap song writing recurrent neural network trained on Kanye West's entire discography\n",
    "\n",
    "1. https://github.com/robbiebarrat/rapping-neural-network\n",
    "\n",
    "Papers:\n",
    "\n",
    "1. LSTM for Rap Generation - http://www.aclweb.org/anthology/D15-1221\n",
    "2. Rap Lyric Generator - https://nlp.stanford.edu/courses/cs224n/2009/fp/5.pdf\n",
    "3. DeepBeat Online Generator - http://www.kdd.org/kdd2016/papers/files/adf0399-malmiA.pdf (half a million lines, applied with RankSVM + Deep Learning)\n",
    "4. Applying rules structure to aid in freestyle creation (WU 2013) https://aclanthology.info/pdf/D/D13/D13-1011.pdf\n",
    "5. Using Automated Rhyme Detection to Characterize Rhyming Style in Rap Music (Hirjee Brown 2010) https://kb.osu.edu/dspace/bitstream/handle/1811/48548/EMR000091a-Hirjee_Brown.pdf?sequence=1\n",
    "\n",
    "RNN v.s. Maximum Likelihood language models (n-gram)\n",
    "\n",
    "1. http://karpathy.github.io/2015/05/21/rnn-effectiveness/\n",
    "2. http://nbviewer.jupyter.org/gist/yoavg/d76121dfde2618422139"
   ]
  },
  {
   "cell_type": "markdown",
   "metadata": {},
   "source": [
    "# CMU rhyming dictionary documentation"
   ]
  },
  {
   "cell_type": "markdown",
   "metadata": {},
   "source": [
    "Below is some basic commands that were very helpful when designing different functions for my model. It was important to become familiar with the rhyming dictionary so I was aware of my computational constraints."
   ]
  },
  {
   "cell_type": "code",
   "execution_count": 561,
   "metadata": {
    "collapsed": false,
    "deletable": true,
    "editable": true
   },
   "outputs": [
    {
     "name": "stdout",
     "output_type": "stream",
     "text": [
      "DENTZER  D EH1 N T Z ER0\n",
      "DENUCCI  D IH0 N UW1 CH IY2\n",
      "DENUCLEARIZATION  D IY0 N UW2 K L IY0 ER2 AH0 Z EY1 SH AH0 N\n",
      "DENUCLEARIZED  D IH0 N UW1 K L IY0 ER0 AY2 Z D\n",
      "DENUCLEARIZED(1)  D IY0 N UW1 K L IY0 ER0 AY2 Z D\n",
      "DENUDE  D IH0 N UW1 D\n",
      "DENUDED  D IH0 N UW1 D IH0 D\n",
      "--\n",
      "--\n",
      "MONONGAHELA  M AH0 N AO2 NG G AH0 HH EY1 L AH0\n",
      "MONONOKAI  M AH0 N AA1 N AH0 K AY2\n",
      "MONONUCLEAR  M AA2 N AH0 N UW1 K L IY0 ER0\n",
      "MONOPHONIC  M AA2 N AH0 F AA1 N IH0 K\n",
      "MONOPLANE  M AA1 N AH0 P L EY2 N\n",
      "--\n",
      "--\n",
      "NON-NEMACHER  N AA1 N IH0 M AH0 K ER0\n",
      "NON-NONSENSE  N AA0 N N AA1 N S EH2 N S\n",
      "NON-NUCLEAR  N AA1 N UW1 K L IY2 ER0\n",
      "NON-OPERATING  N AA1 N AO1 P ER0 EY2 T IH0 NG\n",
      "NON-PACIFIST  N AA2 N P AE1 S IH0 F IH0 S T\n",
      "--\n",
      "--\n",
      "NONNEGOTIABLE  N AA2 N AH0 G OW1 SH AH0 B AH0 L\n",
      "NONNEMACHER  N AA1 N IH0 M AH0 K ER0\n",
      "NONNUCLEAR  N AA1 N UW1 K L IY2 ER0\n",
      "NONOPERATING  N AA1 N AO1 P ER0 EY2 T IH0 NG\n",
      "NONPACIFIST  N AA2 N P AE1 S IH0 F IH0 S T\n",
      "--\n",
      "--\n",
      "NUCKOLLS  N AH1 K AH0 L Z\n",
      "NUCKOLS  N AH1 K AH0 L Z\n",
      "NUCLEAR  N UW1 K L IY0 ER0\n",
      "NUCLEATION  N UW2 K L IY0 EY1 SH AH0 N\n",
      "NUCLEI  N UW1 K L IY0 AY2\n",
      "--\n",
      "--\n",
      "THERMOMETER  TH ER0 M AA1 M AH0 T ER0\n",
      "THERMOMETERS  TH ER0 M AA1 M AH0 T ER0 Z\n",
      "THERMONUCLEAR  TH ER2 M OW0 N UW1 K L IY0 ER0\n",
      "THERMOPATCH  TH ER1 M OW0 P AE2 CH\n",
      "THERMOPLASTIC  TH ER2 M AH0 P L AE1 S T IH0 K\n"
     ]
    }
   ],
   "source": [
    "!grep -C2 NUCLEAR <cmudict-0.7b"
   ]
  },
  {
   "cell_type": "markdown",
   "metadata": {
    "deletable": true,
    "editable": true
   },
   "source": [
    "Basics Functions of the Pronouncing Library"
   ]
  },
  {
   "cell_type": "code",
   "execution_count": 562,
   "metadata": {
    "collapsed": false,
    "deletable": true,
    "editable": true
   },
   "outputs": [],
   "source": [
    "pronunciations = dict()\n",
    "count = 0\n",
    "for line in open(\"cmudict-0.7b\", encoding = \"ISO-8859-1\").readlines():\n",
    "    line = line.strip()\n",
    "    if (count == 1000):\n",
    "        count += 1\n",
    "    if line.startswith(';'): continue\n",
    "    word, phones = line.split(\"  \")\n",
    "    word = word.rstrip(\"(0123)\").lower()\n",
    "    if word not in pronunciations:\n",
    "        pronunciations[word] = []\n",
    "    pronunciations[word].append(phones)"
   ]
  },
  {
   "cell_type": "code",
   "execution_count": 563,
   "metadata": {
    "collapsed": false,
    "deletable": true,
    "editable": true
   },
   "outputs": [],
   "source": [
    "def count_syllables(phones):\n",
    "    return sum([phones.count(s) for s in '012'])"
   ]
  },
  {
   "cell_type": "code",
   "execution_count": 564,
   "metadata": {
    "collapsed": false,
    "deletable": true,
    "editable": true
   },
   "outputs": [],
   "source": [
    "def rhyming_part(phones):\n",
    "    phones_list = phones.split()\n",
    "    for i in range(len(phones_list)-1, 0, -1):\n",
    "        if phones_list[i][-1] in '12':\n",
    "            return ' '.join(phones_list[i:])"
   ]
  },
  {
   "cell_type": "markdown",
   "metadata": {
    "deletable": true,
    "editable": true
   },
   "source": [
    "## Pronouncing Library in Use"
   ]
  },
  {
   "cell_type": "code",
   "execution_count": 565,
   "metadata": {
    "collapsed": false,
    "deletable": true,
    "editable": true
   },
   "outputs": [],
   "source": [
    "#takes in string (word) and returns syllables\n",
    "def getSyls(stringWord):\n",
    "    return pr.syllable_count(pr.phones_for_word(stringWord)[0])"
   ]
  },
  {
   "cell_type": "markdown",
   "metadata": {
    "deletable": true,
    "editable": true
   },
   "source": [
    "First, we're going to retrieve all of the Kanye West lyrics currently stored in text file"
   ]
  },
  {
   "cell_type": "code",
   "execution_count": 566,
   "metadata": {
    "collapsed": true,
    "deletable": true,
    "editable": true
   },
   "outputs": [],
   "source": [
    "## we need to change all of the words that are buildin' to building'\n"
   ]
  },
  {
   "cell_type": "code",
   "execution_count": 567,
   "metadata": {
    "collapsed": false,
    "deletable": true,
    "editable": true
   },
   "outputs": [
    {
     "name": "stdout",
     "output_type": "stream",
     "text": [
      "<class 'str'>\n",
      "<class 'str'>\n"
     ]
    }
   ],
   "source": [
    "# Get all Kanye Lyrics \n",
    "badWordDict = {'nigga': 'digga', 'bitch':'snitch'}\n",
    "\n",
    "#takes in a flag that will tell the cleaner whether or not to change the naughty words out for the kids of the USA\n",
    "#returns a string\n",
    "def getKanyeText(cleanFlag):\n",
    "    with open('lyrics.txt') as kanye_lyrics:\n",
    "        kanyeLyrics = \" \\n \".join(kanye_lyrics.readlines()[1:])\n",
    "        print(type(kanyeLyrics))\n",
    "        kanyeLyrics = kanyeLyrics.lower()\n",
    "        kanyeLyrics = kanyeLyrics.replace(\"in'\",\"ing\")\n",
    "        kanyeLyrics = kanyeLyrics.replace(\"aingt\",\"ain't\")\n",
    "        kanyeLyrics = kanyeLyrics.replace(\"'til\",\"until\")\n",
    "        kanyeLyrics = kanyeLyrics.replace(\"'em\",\"them\")\n",
    "        kanyeLyrics = kanyeLyrics.replace(\"mothafucka\",\"motherfucker\")\n",
    "        kanyeLyrics = ''.join([i for i in kanyeLyrics if not i.isdigit()])\n",
    "        cleanLyrics = kanyeLyrics\n",
    "        for cuss in badWordDict:\n",
    "            cleanLyrics = cleanLyrics.replace(cuss, badWordDict[cuss])\n",
    "        if (cleanFlag == True):\n",
    "            kanyeLyrics = cleanLyrics\n",
    "        return kanyeLyrics\n",
    "    \n",
    "\n",
    "kanye_explicit = getKanyeText(False) \n",
    "kanye_clean = getKanyeText(True)"
   ]
  },
  {
   "cell_type": "markdown",
   "metadata": {},
   "source": [
    "Our **getJsonLyrics()** function is useful because there is a rap api that I was able to query to use all lyrics of any artist. \n",
    "\n",
    "This is cool, because artists of the past can essentially be revived in a computational freestyle that should sound similar to previous sound.\n",
    "\n",
    "In 2012, a hologram of famous rapper, Tupac broke the internet, when it performed alongside Snoop Dogg at Coachella. The video currently has 50 million views. There is clearly public interest in being able to revitalize past rappers in the present. \n",
    "(https://www.youtube.com/watch?v=TGbrFmPBV0Y)\n"
   ]
  },
  {
   "cell_type": "code",
   "execution_count": 568,
   "metadata": {
    "collapsed": false,
    "deletable": true,
    "editable": true
   },
   "outputs": [],
   "source": [
    "def getJsonLyrics(filename, cleanFlag):\n",
    "    songs = json.load(open(filename))[\"songs\"]\n",
    "    out = []\n",
    "    for i in range(len(songs)):\n",
    "        songLyrics = songs[i][\"lyrics\"]\n",
    "        out.append(songLyrics)\n",
    "    all_lyrics = \"\\n\".join(out)\n",
    "    kanyeLyrics = all_lyrics.lower()\n",
    "    kanyeLyrics = kanyeLyrics.replace(\"in'\",\"ing\")\n",
    "    kanyeLyrics = kanyeLyrics.replace(\"aingt\",\"ain't\")\n",
    "    kanyeLyrics = kanyeLyrics.replace(\"'til\",\"until\")\n",
    "    kanyeLyrics = kanyeLyrics.replace(\"'em\",\"them\")\n",
    "    kanyeLyrics = kanyeLyrics.replace(\"mothafucka\",\"motherfucker\")\n",
    "    kanyeLyrics = ''.join([i for i in kanyeLyrics if not i.isdigit()])\n",
    "    cleanLyrics = kanyeLyrics\n",
    "    for cuss in badWordDict:\n",
    "        cleanLyrics = cleanLyrics.replace(cuss, badWordDict[cuss])\n",
    "    if (cleanFlag == True):\n",
    "        kanyeLyrics = cleanLyrics\n",
    "    return kanyeLyrics"
   ]
  },
  {
   "cell_type": "code",
   "execution_count": 569,
   "metadata": {
    "collapsed": false,
    "deletable": true,
    "editable": true
   },
   "outputs": [
    {
     "name": "stdout",
     "output_type": "stream",
     "text": [
      "<class 'str'>\n"
     ]
    }
   ],
   "source": [
    "tupac_explicit = getJsonLyrics('Lyrics_2pac.json', False)\n",
    "print(type(tupac_explicit))"
   ]
  },
  {
   "cell_type": "code",
   "execution_count": 570,
   "metadata": {
    "collapsed": false,
    "deletable": true,
    "editable": true
   },
   "outputs": [],
   "source": [
    "## get all rhyme words\n",
    "\n",
    "#newList = kanye_explicit.splitlines()\n",
    "#kanyeLines = [x for x in newList if x != ' ']"
   ]
  },
  {
   "cell_type": "code",
   "execution_count": 571,
   "metadata": {
    "collapsed": false,
    "deletable": true,
    "editable": true
   },
   "outputs": [
    {
     "name": "stdout",
     "output_type": "stream",
     "text": [
      "<class 'str'>\n",
      "<class 'str'>\n"
     ]
    }
   ],
   "source": [
    "kanye_explicit = getKanyeText(False)\n",
    "kanye_clean = getKanyeText(True)\n",
    "#wc = WordCloud(width=800,height=400).generate(re.sub(r\"\\s+\",\" \", kanye_explicit))\n",
    "#wc.to_image()"
   ]
  },
  {
   "cell_type": "markdown",
   "metadata": {},
   "source": [
    "# The N-gram Model"
   ]
  },
  {
   "cell_type": "markdown",
   "metadata": {},
   "source": [
    "Before we implement our model, let's review how a basic n-gram model works: a joint probability distribution is calculated for every possible combination of N-characters in a given corpus of text. The joint probability distribution represents all of the possible characters that can follow the corresponding n-character combination.  A sequence of text is created thereafter by first initalizing some n-characters that has a probability distribution and then randomly sampling the next character continuously from the distribution. \n",
    "\n",
    "This seems incredibly trivial when compared to how neural networks can learn pattern, but it is very surprising how impressive a simple n-gram model can be at generating random rap lyrics.\n",
    "\n"
   ]
  },
  {
   "cell_type": "code",
   "execution_count": 572,
   "metadata": {
    "collapsed": true,
    "deletable": true,
    "editable": true
   },
   "outputs": [],
   "source": [
    "def train_char_lm(data, order=4):\n",
    "    lm = defaultdict(Counter)\n",
    "    pad = \"~\" * order\n",
    "    data = pad + data\n",
    "    \n",
    "    for i in range(len(data)-order):\n",
    "        history, char = data[i:i + order], data[i + order]\n",
    "        lm[history][char] += 1\n",
    "        \n",
    "    def normalize(counter):\n",
    "        s = float(sum(counter.values()))\n",
    "        return [(c,cnt/s) for c,cnt in counter.items()]\n",
    "    outlm = {hist:normalize(chars) for hist, chars in lm.items()}\n",
    "    return outlm"
   ]
  },
  {
   "cell_type": "code",
   "execution_count": 573,
   "metadata": {
    "collapsed": false,
    "deletable": true,
    "editable": true
   },
   "outputs": [],
   "source": [
    "lm = train_char_lm(kanye_explicit, order=4)"
   ]
  },
  {
   "cell_type": "code",
   "execution_count": 574,
   "metadata": {
    "collapsed": false,
    "deletable": true,
    "editable": true
   },
   "outputs": [],
   "source": [
    "def generate_letter(lm, history, order):\n",
    "        history = history[-order:]\n",
    "        dist = lm[history]\n",
    "        x = random()\n",
    "        for c,v in dist:\n",
    "            x = x - v\n",
    "            if x <= 0: return c"
   ]
  },
  {
   "cell_type": "code",
   "execution_count": 575,
   "metadata": {
    "collapsed": true,
    "deletable": true,
    "editable": true
   },
   "outputs": [],
   "source": [
    "def generate_text(lm, order, nletters=1000):\n",
    "    history = \"~\" * order\n",
    "    out = []\n",
    "    for i in range(nletters):\n",
    "        c = generate_letter(lm, history, order)\n",
    "        history = history[-order:] + c\n",
    "        out.append(c)\n",
    "    return \"\".join(out)"
   ]
  },
  {
   "cell_type": "markdown",
   "metadata": {},
   "source": [
    "We are going to observe how the n-gram model is able to perform on the kanye west explicit lyrics with an order of 2, 5, and 10 characters while trying to create a sequence of 400 characters. "
   ]
  },
  {
   "cell_type": "code",
   "execution_count": 576,
   "metadata": {
    "collapsed": false
   },
   "outputs": [
    {
     "name": "stdout",
     "output_type": "stream",
     "text": [
      "i he old let thead i a hand it\n",
      " pab to i wearld\n",
      " thembut the fars\n",
      " we at bret s-spen my ands yout? to ockin't a witchitelinnow\n",
      " moverealk tallon they que fland fore saybour donever foozerclover con\n",
      " i do a cant\n",
      " \n",
      " \n",
      " on g''\n",
      " \n",
      " all do girl you was night?\n",
      " \n",
      " the a ne\n",
      " \n",
      " \n",
      " \n",
      " \n",
      " die st i'vend ainged  this st oh ater leve i wast romand is linget muchaelce i do camend beforlshis\n",
      " \n",
      " like dring by nowsummy \n"
     ]
    }
   ],
   "source": [
    "orderN = 2\n",
    "lm = train_char_lm(kanye_explicit, order=orderN)\n",
    "print(generate_text(lm, orderN, 400))"
   ]
  },
  {
   "cell_type": "markdown",
   "metadata": {},
   "source": [
    "Clearly, two characters is not sufficient to even create coherent meaning on the word level. Thus, a greater \"n\" is needed"
   ]
  },
  {
   "cell_type": "code",
   "execution_count": 577,
   "metadata": {
    "collapsed": false
   },
   "outputs": [
    {
     "name": "stdout",
     "output_type": "stream",
     "text": [
      "i threw me you for than that lie\n",
      " \n",
      " they got the west is bitch, give you\n",
      " \n",
      " you gon' call out line glass\n",
      " \n",
      " shut don't control these nigga, i'ma be any hat bad bitches the cca\n",
      " \n",
      " me a little lotion, lemme they camera\n",
      " \n",
      " what i love with the can i kill and image, no came ol' two whiter than they couldn't wanna layaway from a travolta\n",
      " \n",
      " yeezy said shit\n",
      " \n",
      " \n",
      " nothing's\n",
      " \n",
      " she feeling like shyne with \n"
     ]
    }
   ],
   "source": [
    "orderN = 5\n",
    "lm = train_char_lm(kanye_explicit, order=orderN)\n",
    "print(generate_text(lm, orderN, 400))"
   ]
  },
  {
   "cell_type": "markdown",
   "metadata": {},
   "source": [
    "The n = 5 model is clearly performing better than the previous model, because actual english words are able to be generated, but by in large the lines do not convey any meaning. "
   ]
  },
  {
   "cell_type": "code",
   "execution_count": 578,
   "metadata": {
    "collapsed": false,
    "deletable": true,
    "editable": true
   },
   "outputs": [],
   "source": [
    "orderN = 10\n",
    "lm = train_char_lm(kanye_explicit, order=orderN)"
   ]
  },
  {
   "cell_type": "code",
   "execution_count": 579,
   "metadata": {
    "collapsed": false,
    "deletable": true,
    "editable": true
   },
   "outputs": [
    {
     "name": "stdout",
     "output_type": "stream",
     "text": [
      "i threw suicides on the private jet\n",
      " \n",
      " you know what do to with us\n",
      " \n",
      " in the city, they about to experience will happen\n",
      " \n",
      " so the king of the damn cake\n",
      " \n",
      " now that's very un-spike lee\n",
      " \n",
      " but i feel like i'm sniffing coke\n",
      " \n",
      " it's a party in your spouse again\n",
      " \n",
      " black on black is the hate in advance, pull down your pants\n",
      " \n",
      " i put holes in his face about piranha-sized\n",
      " \n",
      " that's why i'm\n",
      " \n",
      " seven o'clo\n"
     ]
    }
   ],
   "source": [
    "print(generate_text(lm, orderN, 400))"
   ]
  },
  {
   "cell_type": "markdown",
   "metadata": {},
   "source": [
    "This is already pretty impressive as a rap model. The simple n-gram exhibits the ability to generate new line. Additionally, the n-gram model is able when to detect when to end a line. This behavior is possible because the new line is detected as the character \"\\n\" in python, so the probability distribution that is learned for every possible combination of n characters will include the newline character as a reasonable succeeding letter wherever it is appropriate. \n",
    "\n",
    "This feature that is captured in n-grams, is very helpful for our modeling of rap, because one of the neccessary stylic requirements of rap is the existence of \"bars\" as independent semantic sequences. While many raps develop meaning by layering bars, there are equally many that are simply tangentially related, but not necessarily completely semantically dependent. Because of this, I thought I could get away with a model "
   ]
  },
  {
   "cell_type": "markdown",
   "metadata": {},
   "source": [
    "Still as impressive as this is, it doesn't resemble a rap, because the sentences do not even remotely rhyme with each other. In my model I will present a novel way to enforce a rhyme into each line while just using the N-gram approach."
   ]
  },
  {
   "cell_type": "markdown",
   "metadata": {},
   "source": [
    "To drive home the limitations of the n-gram model, let's observe what happens if we set a very high n, n = 25"
   ]
  },
  {
   "cell_type": "code",
   "execution_count": 515,
   "metadata": {
    "collapsed": false
   },
   "outputs": [
    {
     "name": "stdout",
     "output_type": "stream",
     "text": [
      "i threw suicides on the tour bus\n",
      " \n",
      " i threw suicides on the private jet\n",
      " \n",
      " you know what that mean, i'm fly to death\n",
      " \n",
      " i step in def jam building like i'm the shit\n",
      " \n",
      " tell them give me fifty million or i'ma quit\n",
      " \n",
      " most rappers' taste level ain't at my waist level\n",
      " \n",
      " i'm fly get on a plane jet lagged already\n",
      " \n",
      " i'm tired, the goyard bags is heavy\n",
      " \n",
      " i'm fire, the flow hard as a chevy\n",
      " \n",
      " i told he\n"
     ]
    }
   ],
   "source": [
    "orderN = 25\n",
    "lm = train_char_lm(kanye_explicit, order=orderN)\n",
    "print(generate_text(lm, orderN, 400))"
   ]
  },
  {
   "cell_type": "markdown",
   "metadata": {},
   "source": [
    "Above you will see that the model essentially directly copies Kanye West's entire verse from the song \"Mercy\". Since N is set so high, there is likely always going to be only 1 possible character in every probabiity distribution which we are randomly sampling. As a result, the markov chain of characters sampled is reduced simply to the text that the learning model was trained on. "
   ]
  },
  {
   "cell_type": "markdown",
   "metadata": {},
   "source": [
    "# Exploratory Data Analysis"
   ]
  },
  {
   "cell_type": "markdown",
   "metadata": {},
   "source": [
    "Because Rap is rap, I suspected that there would be many words that weren't available in the CMU pronouncing dictionary. This meant that I wasn't going to be able to determine the corresponding rhymes for these specific words."
   ]
  },
  {
   "cell_type": "code",
   "execution_count": 516,
   "metadata": {
    "collapsed": false,
    "deletable": true,
    "editable": true
   },
   "outputs": [
    {
     "name": "stdout",
     "output_type": "stream",
     "text": [
      "Number of distinct words recognized by CMU rhyme dict : 5159\n",
      "Number of dictinct words not recognized by CMU rhyme dict : 681\n",
      "Times a word is recognized by CMU rhyme dict : 52429\n",
      "Times a word is not recognized by CMU rhyme dict : 1945\n"
     ]
    }
   ],
   "source": [
    "#now try searching for unidentified words\n",
    "\n",
    "mystr = kanye_clean\n",
    "wordList = re.sub(\"[^\\w]\", \" \",  mystr).split()\n",
    "\n",
    "unWords = set()\n",
    "countUnwords = 0 \n",
    "\n",
    "knwnWords = set()\n",
    "countKnwnWords = 0\n",
    "\n",
    "for i in wordList:\n",
    "    if i not in pronunciations: \n",
    "        unWords.add(i)\n",
    "        countUnwords += 1\n",
    "    else:\n",
    "        knwnWords.add(i)\n",
    "        countKnwnWords += 1\n",
    "    \n",
    "print(\"Number of distinct words recognized by CMU rhyme dict :\", len(knwnWords))\n",
    "print(\"Number of dictinct words not recognized by CMU rhyme dict :\", len(unWords))\n",
    "\n",
    "\n",
    "print(\"Times a word is recognized by CMU rhyme dict :\", countKnwnWords)\n",
    "print(\"Times a word is not recognized by CMU rhyme dict :\", countUnwords)"
   ]
  },
  {
   "cell_type": "markdown",
   "metadata": {},
   "source": [
    "As we can see, many of the words will not be detected by the rhyme dictionary. Because this is considerable percentage of the words, it would be impractical to try to remove these words for the training set. Instead, we will only limit the set of rhyming words, which will allow for considerable flexibility within each line of the rap. As a result, I limited the words I would use for rhyming words to just words that could rhyme detect. The unfortunate side effect of this is that there is no straightforward way to calculate the syllables in a given line if one of the words is not available in the rhyming dict."
   ]
  },
  {
   "cell_type": "code",
   "execution_count": 517,
   "metadata": {
    "collapsed": false,
    "deletable": true,
    "editable": true
   },
   "outputs": [
    {
     "data": {
      "image/png": "[encoded data removed]",
      "text/plain": [
       "<PIL.Image.Image image mode=RGB size=800x400 at 0x11EC33D68>"
      ]
     },
     "execution_count": 517,
     "metadata": {},
     "output_type": "execute_result"
    }
   ],
   "source": [
    "listOfUnknown = list(unWords)\n",
    "allUnknown = \" \".join(listOfUnknown)\n",
    "\n",
    "wc = WordCloud(width=800,height=400).generate(re.sub(r\"\\s+\",\" \", allUnknown))\n",
    "wc.to_image()"
   ]
  },
  {
   "cell_type": "markdown",
   "metadata": {
    "deletable": true,
    "editable": true
   },
   "source": [
    "## Specify loose rhymes"
   ]
  },
  {
   "cell_type": "markdown",
   "metadata": {},
   "source": [
    "Because rappers seldom use strict rhymes in their rhymes I needed to right my own rhyme function that determined if two words \"loosely\" rhymes, which basically means that they had the same last vowel sound in the two words.\n",
    "\n",
    "A strict rhyme considers the entirety of the last sound instead of just the vowel part. \n",
    "\n",
    "For example:\n",
    "\n",
    "Gold and Fold strictly rhyme\n",
    "but Gold and Roll do not.\n",
    "\n",
    "Meanwhile, \n",
    "\n",
    "Gold and Fold and Roll all loosely rhyme. Which is more representative of the threshold of rhyme that will sufficiently connect two bars in a song."
   ]
  },
  {
   "cell_type": "code",
   "execution_count": 518,
   "metadata": {
    "collapsed": false,
    "deletable": true,
    "editable": true
   },
   "outputs": [],
   "source": [
    "#just checks the vowel sound and stress TODO can modify to account for LESS. AKA dropping the stress\n",
    "#also checks last letter for sequential lines \n",
    "\n",
    "def loose_rhyme(w1, w2):\n",
    "    phone1 = pr.phones_for_word(w1)[0]\n",
    "    phone2 = pr.phones_for_word(w2)[0]\n",
    "    ph1 = re.sub(\"[^\\w]\", \" \",  phone1).split()\n",
    "    ph2 = re.sub(\"[^\\w]\", \" \",  phone2).split()                   \n",
    "    v1s = [x for x in ph1 if bool(re.search(r'\\d', x))][-1]\n",
    "    v1 = ''.join([i for i in v1s if not i.isdigit()])\n",
    "    v2s = [x for x in ph2 if bool(re.search(r'\\d', x))][-1]\n",
    "    #remove all numbers so news and parachute rhyme .\n",
    "    v2 = ''.join([i for i in v2s if not i.isdigit()])                          \n",
    "    return (v1 == v2 or (w1[-1] == w2[-1]))"
   ]
  },
  {
   "cell_type": "code",
   "execution_count": 519,
   "metadata": {
    "collapsed": false,
    "deletable": true,
    "editable": true
   },
   "outputs": [],
   "source": [
    "#takes in a word and returns the loose rhyme vowel\n",
    "def getRhymeSyl(w1):\n",
    "    phone1 = pr.phones_for_word(w1)[0]\n",
    "    ph1 = re.sub(\"[^\\w]\", \" \",  phone1).split()                 \n",
    "    v1s = [x for x in ph1 if bool(re.search(r'\\d', x))][-1]                         \n",
    "    return (v1s)"
   ]
  },
  {
   "cell_type": "code",
   "execution_count": 520,
   "metadata": {
    "collapsed": true,
    "deletable": true,
    "editable": true
   },
   "outputs": [],
   "source": [
    "#takes lyrics and turns into BARS\n",
    "def getBars(lyrics):\n",
    "    trainBars = lyrics.splitlines()  \n",
    "    cleanBars = [x for x in trainBars if x != ' ']\n",
    "    return cleanBars\n",
    "    "
   ]
  },
  {
   "cell_type": "code",
   "execution_count": 521,
   "metadata": {
    "collapsed": true,
    "deletable": true,
    "editable": true
   },
   "outputs": [],
   "source": [
    "#takes in list of bars and returns all of the rhyming words\n",
    "def getRhymes(bars):\n",
    "    allRhymes = []\n",
    "    #get all lines from lyrics\n",
    "    for i in bars:\n",
    "        tempList = re.sub(\"[^\\w]\", \" \",  i).split()\n",
    "        if (len(tempList) > 2):\n",
    "            allRhymes.append(tempList[-1])       \n",
    "    return allRhymes\n",
    "    "
   ]
  },
  {
   "cell_type": "code",
   "execution_count": 522,
   "metadata": {
    "collapsed": true
   },
   "outputs": [],
   "source": [
    "def getCountRhymes(rhymez): \n",
    "    cat_dict = Counter(rhymez)\n",
    "    return cat_dict"
   ]
  },
  {
   "cell_type": "markdown",
   "metadata": {},
   "source": [
    "The creation of a rhyme dictionary was integral to being able to implement a novel n-gram variant for language generation in the context of rap music. "
   ]
  },
  {
   "cell_type": "code",
   "execution_count": 523,
   "metadata": {
    "collapsed": false,
    "deletable": true,
    "editable": true
   },
   "outputs": [],
   "source": [
    "def createRhymeDict(lyrics):\n",
    "    allLines = getBars(lyrics)\n",
    "    allRhymes = getRhymes(allLines)\n",
    "    allRhymeCount = Counter(allRhymes)\n",
    "    \n",
    "    \n",
    "    rhymeDict = dict()\n",
    "    \n",
    "    lastSyl = None\n",
    "    lastWord = None\n",
    "    \n",
    "    for rhymeTup in allRhymeCount.most_common():\n",
    "        #can use getRhymeSyl and looseRhyme\n",
    "        rhymeWord = rhymeTup[0]\n",
    "        if (rhymeWord in pronunciations):\n",
    "            \n",
    "            rhySyl = getRhymeSyl(rhymeWord) \n",
    "            if rhySyl not in rhymeDict:\n",
    "                rhymeDict[rhySyl] = list()\n",
    "            rhymeDict[rhySyl].append(rhymeTup)\n",
    "            \n",
    "    return rhymeDict"
   ]
  },
  {
   "cell_type": "markdown",
   "metadata": {
    "collapsed": true,
    "deletable": true,
    "editable": true
   },
   "source": [
    "# Reverse N-gram for \"Bar\" creation"
   ]
  },
  {
   "cell_type": "markdown",
   "metadata": {},
   "source": [
    "Rather than creating a probability distribution for the character to succeed a given N characters, my model sampled directly from the distribution of characters that **preceeded** the current n characters under observation. This was a necessary change because in order to create each line based off the rhyming word, we would have to anchor the initial n-characters in the last word of the line and build the markov chain backwards from there."
   ]
  },
  {
   "cell_type": "code",
   "execution_count": 524,
   "metadata": {
    "collapsed": true,
    "deletable": true,
    "editable": true
   },
   "outputs": [],
   "source": [
    "#takes in a string and order and trains the n-gram model backwards\n",
    "def train_char_lm_rev(data, order=4):\n",
    "    lm = defaultdict(Counter)\n",
    "    pad = \"~\" * order\n",
    "    data = pad + data\n",
    "    \n",
    "    for i in range(len(data)-order-1):\n",
    "        history, char = data[i+1: i + order+1], data[i]\n",
    "        lm[history][char] += 1\n",
    "        \n",
    "    def normalize(counter):\n",
    "        s = float(sum(counter.values()))\n",
    "        return [(c,cnt/s) for c,cnt in counter.items()]\n",
    "    \n",
    "    outlm = {hist:normalize(chars) for hist, chars in lm.items()}\n",
    "    return outlm"
   ]
  },
  {
   "cell_type": "code",
   "execution_count": 525,
   "metadata": {
    "collapsed": false,
    "deletable": true,
    "editable": true
   },
   "outputs": [],
   "source": [
    "def generate_letter_rev(lm, history, order):\n",
    "        history = history[:order]\n",
    "        dist = lm[history]\n",
    "        x = random()\n",
    "        for c,v in dist:\n",
    "            x = x - v\n",
    "            if (x <= 0): return c"
   ]
  },
  {
   "cell_type": "code",
   "execution_count": 526,
   "metadata": {
    "collapsed": true,
    "deletable": true,
    "editable": true
   },
   "outputs": [],
   "source": [
    "#takes in a string of lyrics and returns the avg # of vowels per line\n",
    "#is correlated with syllables per line. havne't had time to incororate meter into this model yet\n",
    "def getNumVow(lyrics):\n",
    "    newList = lyrics.splitlines()\n",
    "    kanyeLines = [x for x in newList if x != ' ']\n",
    "    the_vowels = [\"a\",\"e\",\"i\",\"o\",\"u\"]\n",
    "    numLines = len(kanyeLines)\n",
    "    totalVowels = 0\n",
    "    for i in kanyeLines:\n",
    "        for char in i:\n",
    "            if char in the_vowels:\n",
    "                totalVowels = totalVowels + 1\n",
    "    return (totalVowels / numLines)\n"
   ]
  },
  {
   "cell_type": "code",
   "execution_count": 527,
   "metadata": {
    "collapsed": false,
    "deletable": true,
    "editable": true
   },
   "outputs": [],
   "source": [
    "def getNormedDist(dict1, t_bars):\n",
    "    \n",
    "    rhyme_dict = dict1\n",
    "    all_rhymes = getRhymes(t_bars)\n",
    "    # creates list of all words that end bars\n",
    "    \n",
    "\n",
    "    rhyme_phones = [key for key, val in rhyme_dict.items()]\n",
    "    #intermediate then generate corresponding distributions\n",
    "    \n",
    "\n",
    "    perDict = dict.fromkeys(rhyme_phones, 0)\n",
    "    for i in (all_rhymes):\n",
    "        if i in pronunciations:\n",
    "            key1 = getRhymeSyl(i)\n",
    "            perDict[key1] += 1\n",
    "            \n",
    "    #Prep to normalize all vals by dividing by total\n",
    "    listOfAllVals = []\n",
    "    for key1, val1 in perDict.items():\n",
    "        listOfAllVals.append(val1)\n",
    "    s = float(sum(listOfAllVals))\n",
    "    normedPerDict = {rhy_pho : count1/s for rhy_pho, count1 in perDict.items()}\n",
    "    return normedPerDict    \n",
    "        \n",
    "    \n",
    "    \n",
    "#    rhyme_pho_weights = [perDict[phone] for phone in rhyme_phones]\n",
    "    \n"
   ]
  },
  {
   "cell_type": "markdown",
   "metadata": {},
   "source": [
    "As mentioned before, each bar is generated completely independently based off of the rhyme that is chosen. While this exposing one main flaw with our design-- that the rhymes shouldn't have to do with each other, we contest that certain rhyme schemes according to each artist will correspond to their own unique subset of semantic meanings."
   ]
  },
  {
   "cell_type": "code",
   "execution_count": 545,
   "metadata": {
    "collapsed": false,
    "deletable": true,
    "editable": true
   },
   "outputs": [],
   "source": [
    "import random as rd\n",
    "import string\n",
    "\n",
    "#change vowelCount to syl count asap\n",
    "def generate_bar(lm, num_vowel, order, rhyme, rhyme_dict):\n",
    "    the_vowel = [\"a\",\"e\",\"i\",\"o\",\"u\"]\n",
    "    realPunc = [\".\",\"?\",\"!\",\"\\n\"]\n",
    "    \n",
    "    listOfAllVals = []\n",
    "    rhyme_list_tup = rhyme_dict[rhyme]\n",
    "    \n",
    "    rhyme_words = []\n",
    "    rhyme_weights = []\n",
    "\n",
    "\n",
    "    for (x,y) in rhyme_list_tup:\n",
    "        rhyme_words.append(x)\n",
    "        rhyme_weights.append(y)\n",
    "    \n",
    "    s = float(sum(rhyme_weights))\n",
    "\n",
    "    rhyme_pho_weights = [weight/s for weight in rhyme_weights]\n",
    "    lastWord = np.random.choice(rhyme_words, p=rhyme_pho_weights)\n",
    "    \n",
    "    # use regex to find expession in lm dict keys that starts with lastWord and fills \n",
    "    # in the remaining (order - len(lastWord)) characters for h\n",
    "    if (len(lastWord) < order):\n",
    "        pot_starts = []\n",
    "        #had to cover beginning edgecase or else the eventual looking up in to lm[history] would \n",
    "        #completely break \n",
    "        for key, value in lm.items():     # iter on both keys and values\n",
    "            if key.startswith(lastWord):\n",
    "                pot_starts.append(key)\n",
    "        #would rather not make this random. \n",
    "        history = rd.choice(pot_starts) \n",
    "    else:\n",
    "        history = lastWord \n",
    "    out = []\n",
    "    out.insert(0, lastWord)\n",
    "    endlineFlag = True\n",
    "    rhyme_dict = rhyme_dict\n",
    "    #hacky solution to syllable counting -> change in future\n",
    "    vowelCount = 0\n",
    "    while (endlineFlag):\n",
    "        c = generate_letter_rev(lm, history, order)\n",
    "        if (c in the_vowel):\n",
    "            vowelCount = vowelCount + 1\n",
    "        history = c + (history[:order])\n",
    "        if (vowelCount > num_vowel) and (c in realPunc):\n",
    "            endlineFlag = False\n",
    "        #extend\n",
    "        else:\n",
    "            out.insert(0,c)\n",
    "    # keep it as one line at least\n",
    "    out = list(filter(lambda a: a != \"\\n\", out))\n",
    "    return \"\".join(out)\n",
    "        \n",
    "    "
   ]
  },
  {
   "cell_type": "code",
   "execution_count": 550,
   "metadata": {
    "collapsed": true,
    "deletable": true,
    "editable": true
   },
   "outputs": [],
   "source": [
    "#verse examples is a list of (lists of tuples (syl(vowel), rhyme) )\n",
    "#I created these examples by manually counting and checking rhymes to ensure accuracy\n",
    "#v_e[0] = Gold Digger\n",
    "#v_e[1] =\n",
    "verseExamples = [[\"b\",\"b\",\"b\",\"b\",\"c\",\"c\",\"c\",\"c\", \"c\",\"c\",\"c\",\"c\",\"c\"]]"
   ]
  },
  {
   "cell_type": "code",
   "execution_count": 551,
   "metadata": {
    "collapsed": true,
    "deletable": true,
    "editable": true
   },
   "outputs": [],
   "source": [
    "def getRhymeForBar(checkList, letter):\n",
    "    if letter == \"a\":\n",
    "        return checkList[0]\n",
    "    if letter == \"b\":\n",
    "        return checkList[1]\n",
    "    if letter == \"c\":\n",
    "        return checkList[2]\n",
    "    else:\n",
    "        return checkList[3]"
   ]
  },
  {
   "cell_type": "code",
   "execution_count": 552,
   "metadata": {
    "collapsed": false,
    "deletable": true,
    "editable": true
   },
   "outputs": [],
   "source": [
    "#main function ties all functions together\n",
    "# (lyrics : string, order : integer) suggested 12\n",
    "\n",
    "def generate_verse(lyrics, order):\n",
    "    num_vow = 4\n",
    "    #clean text from string, format bars, etc... \n",
    "    t_bars = getBars(lyrics)\n",
    "    verse_skeleton = rd.choice(verseExamples)\n",
    "    \n",
    "    lm_rev1 = (train_char_lm_rev(lyrics, order))\n",
    "    \n",
    "    #choose the rhyme bars based of a weighted distribution\n",
    "    rhyme_dict = createRhymeDict(lyrics)\n",
    "    # creates list of all words that end bars\n",
    "    rhyme_phones = [key for key, val in rhyme_dict.items()]\n",
    "    \n",
    "    normedPerDict = getNormedDist(rhyme_dict, t_bars)\n",
    "    \n",
    "    rhyme_pho_weights = [normedPerDict[phone] for phone in rhyme_phones]\n",
    "    \n",
    "    \n",
    "    #generate different rhyme schemes in advance \n",
    "    a = np.random.choice(rhyme_phones, p=rhyme_pho_weights)\n",
    "    b = np.random.choice(rhyme_phones, p=rhyme_pho_weights)\n",
    "    c = np.random.choice(rhyme_phones, p=rhyme_pho_weights)\n",
    "    d = np.random.choice(rhyme_phones, p=rhyme_pho_weights)\n",
    "    checkList = [a,b,c,d]\n",
    "    \n",
    "    bars = []\n",
    "    \n",
    "    for rhyme_phone3 in verse_skeleton:\n",
    "        bar_rhyme = getRhymeForBar(checkList, rhyme_phone3) \n",
    "        bar = generate_bar(lm_rev1, num_vow, order, bar_rhyme, rhyme_dict)\n",
    "        bars.append(bar)\n",
    "    return \"\\n\".join(bars)"
   ]
  },
  {
   "cell_type": "markdown",
   "metadata": {},
   "source": [
    "The generate verse function call the generate bar function the necessary amount of times in order to create a full verse. "
   ]
  },
  {
   "cell_type": "code",
   "execution_count": 580,
   "metadata": {
    "collapsed": false,
    "deletable": true,
    "editable": true
   },
   "outputs": [
    {
     "name": "stdout",
     "output_type": "stream",
     "text": [
      " now everything i want to see thee more clear\n",
      " i might rider  but with my brits\n",
      " you don't wanna fuck me wit\n",
      " i mean i might slam  pink\n",
      " got a dark-skinned friend, look like half\n",
      " especially in my pastel, i pass\n",
      " fired a week later, i'm in the children, listen to the hustlers, gang\n",
      " the block with you  but i had\n",
      " remember when i walk down that\n",
      " these niggas ain't play pause i'm not too laugh\n",
      " so many imaginary friend  and  stacks\n",
      " cause even if i don't get through yves st. laurent is my past\n",
      " feel like?  telling me that\n"
     ]
    }
   ],
   "source": [
    "print(generate_verse(kanye_explicit, 10))"
   ]
  },
  {
   "cell_type": "markdown",
   "metadata": {},
   "source": [
    "This model clearly outperforms the basic n-gram in being able to produce meaningful lines. Additionally, I would add that this model roughly represents how these artists would freestyle if they had to think of lines on the spot. In freestyling you first establish the sequence of rhymes and then you work backwards in your head so that the line ends up making sense, which is very similar to the sequential nature of this algorithm. Nine was chosen off o\n",
    "\n",
    "In the future instead of sampling randomly from the distribution of how likely a rhyme is, I would also like to consider how likely a rhyme is, based off of a previous rhyme word. That way there is multiple markov chains of rhymes embedded in every verse. This however, would require a much larger data set than one artist's discography and would have to be part of a different project."
   ]
  },
  {
   "cell_type": "code",
   "execution_count": 555,
   "metadata": {
    "collapsed": false
   },
   "outputs": [
    {
     "name": "stdout",
     "output_type": "stream",
     "text": [
      " how do you rate yourself in a room doing  beats a day for  summers\n",
      " so i'mma live like it's all about the precinct  we rappers and managers\n",
      " that's right (that's my favorite rapper\n",
      " when i pulled up at the oscars\n",
      " so many lines, you photograph\n",
      " whatever come back when the shit that you play fair? mmmnnnn  grab your kodak\n",
      " or rocking the stardom will turn you to a maniac\n",
      " ice chain, carti lens, and a knapsack\n",
      " and giving head is like a hovercraft\n",
      " and bow so hard when it rained  let's play the handyman\n",
      " all of which is legal in amsterdam\n",
      " or grab your waist then, i'mma grab your waist then, i'mma grab your remote, for the fame, man, that don't play the handyman\n",
      " all of which is legal in amsterdam\n"
     ]
    }
   ],
   "source": [
    "print(generate_verse(kanye_clean, 9))"
   ]
  },
  {
   "cell_type": "code",
   "execution_count": 534,
   "metadata": {
    "collapsed": true,
    "deletable": true,
    "editable": true
   },
   "outputs": [],
   "source": [
    "## TODO =  probabilistically choose the rhymes\n",
    "## add twitter data\n",
    "## add syllables into rhyme generation\n",
    "##  and she grabbed my golf balls"
   ]
  },
  {
   "cell_type": "markdown",
   "metadata": {},
   "source": [
    "Just for fun, we are going to demonstrate our model trained on two other famous rappers: Biggie and 2Pac."
   ]
  },
  {
   "cell_type": "markdown",
   "metadata": {},
   "source": [
    "![title](img/tuBig.png)"
   ]
  },
  {
   "cell_type": "code",
   "execution_count": 556,
   "metadata": {
    "collapsed": false,
    "deletable": true,
    "editable": true
   },
   "outputs": [],
   "source": [
    "tupac_explicit = getJsonLyrics(\"Lyrics_2pac.json\", False)\n",
    "biggie_explicit = getJsonLyrics(\"Lyrics_TheNotoriousB.I.G..json\", False)"
   ]
  },
  {
   "cell_type": "code",
   "execution_count": 543,
   "metadata": {
    "collapsed": false
   },
   "outputs": [
    {
     "name": "stdout",
     "output_type": "stream",
     "text": [
      "another amateur trying to see a nigga, is you dead broke, you would be generous\n",
      " two words, i'm gonna make your killings clean, slugs up in between, know what i'm the perfect disciples\n",
      "a born gangsta hoes kobe bryant scared to sodomizeand\n",
      "if not, i hope it is but if it's on in the\n",
      "get your friends beg for ends for me to lendbut this\n",
      "to all my queensbridge (niggas!)to all my brooklynwith\n",
      "my dick got rocks in the ashtray, spark this bitch\n",
      "nigga i toast ya, put fear\n",
      "playin \"love is a house,\" and thinkin 'bout willis\n",
      "your little sister, damn i really we be serving\n",
      "we'll be all fucking you bitches\n",
      "pull your hail girl, bite cha necklace stripping\n",
      "but the box, i ain't marching, we shooting\n",
      "strictly gun testing, coke measuring\n",
      "everything that forty-five, plotting to portray real but they don't lie to me motherfuckers like mr. fantastic\n",
      "the cleanest, meanest penis\n",
      "ice project off lights, chick flashes\n"
     ]
    }
   ],
   "source": [
    "print(generate_verse(biggie_explicit, 9))"
   ]
  },
  {
   "cell_type": "code",
   "execution_count": 544,
   "metadata": {
    "collapsed": false
   },
   "outputs": [
    {
     "name": "stdout",
     "output_type": "stream",
     "text": [
      "i want money, hoes and see how good a nigga getting stacks, making legend\n",
      "god coming, start runningyelling evil\n",
      "steady thuggin with a passion, forever thugging on my mama\n",
      "there was no other now them niggas knew, i'm a criminal behaviour- criminal(criminal, criminal\n",
      "but someone kiss to stitch you\n",
      "we can do it illegal so the evil man dofaced with you\n",
      "huggin on a quest to get evicted, can't pay the rent's due\n",
      "dear lord can you explain to a nigga here, now biggie tell me through my highschool yearboo\n",
      "passed by his family, of this vest see, so nigga flipping coke in corner store bodegas, in the back room playing with a nigga feel, when i'm standing at a bar full of demons\n",
      "to the mosque, don't wanna rush ya, but make your life, time to aim trigger for you i wanna know if she gon' set up this plantation\n",
      "\", running all you busta\n",
      "poverty and frustration, aggravation, temptation\n",
      "drowned in by screams, no answers to questions\n",
      "the flower blooms with brilliance\n",
      "all of that type of environment\n",
      "and his alarm went off to wake up in this judgment there is no such thing as america\n",
      "in the positionmy competition\n"
     ]
    }
   ],
   "source": [
    "print(generate_verse(tupac_explicit, 9))"
   ]
  },
  {
   "cell_type": "markdown",
   "metadata": {},
   "source": [
    "# Discussion and Future work"
   ]
  },
  {
   "cell_type": "markdown",
   "metadata": {},
   "source": [
    "For future work, first I would like to think of an efficient way of capturing the rhythym . Many rap enthusiasts would argue that the \"flow\" is much more important than lyrics-- especially since the rise of the \"[Mumble Rap]\"(http://theconversation.com/mumble-rap-cultural-laziness-or-a-true-reflection-of-contemporary-times-85550)\" \n",
    "\n",
    "Although my reverse n-gram is simpler and more interpretable the neural networks that were implemented to model freestyle rap, some neural networks (Malmi 2016) almost automatically can detect the rhythm in lines. To compensate for this, I would have to hard code this as a rule for each line. \n",
    "\n",
    "I also would like to statistically test my assumption that different rhyme schemes tend to cluster around different semantic concepts, which I assumed would help give my model's rap lines some statistically grounded semantic relationship, despite being independently generated."
   ]
  },
  {
   "cell_type": "markdown",
   "metadata": {},
   "source": [
    "# Bibliography"
   ]
  },
  {
   "cell_type": "markdown",
   "metadata": {},
   "source": [
    "1 . Potash, Peter, Alexey Romanov, and Anna Rumshisky. \"Ghostwriter: using an LSTM for automatic RAP lyric generation.\" Proceedings of the 2015 Conference on Empirical Methods in Natural Language Processing. 2015.\n",
    "\n",
    "\n",
    "\n",
    "2 .  Hieu Nguyen, Brian. \"Rap lyric generator.\" (2009).\n",
    "\n",
    "\n",
    "\n",
    "3 . Malmi, Eric, et al. \"Dopelearning: A computational approach to rap lyrics generation.\" Proceedings of the 22nd ACM SIGKDD International Conference on Knowledge Discovery and Data Mining. ACM, 2016.\n",
    "\n",
    "\n",
    "\n",
    "4 . Hirjee, Hussein, and Daniel Brown. \"Using automated rhyme detection to characterize rhyming style in rap music.\" (2010)."
   ]
  },
  {
   "cell_type": "code",
   "execution_count": null,
   "metadata": {
    "collapsed": true,
    "deletable": true,
    "editable": true
   },
   "outputs": [],
   "source": []
  },
  {
   "cell_type": "code",
   "execution_count": null,
   "metadata": {
    "collapsed": true,
    "deletable": true,
    "editable": true
   },
   "outputs": [],
   "source": []
  }
 ],
 "metadata": {
  "kernelspec": {
   "display_name": "Python [default]",
   "language": "python",
   "name": "python3"
  },
  "language_info": {
   "codemirror_mode": {
    "name": "ipython",
    "version": 3
   },
   "file_extension": ".py",
   "mimetype": "text/x-python",
   "name": "python",
   "nbconvert_exporter": "python",
   "pygments_lexer": "ipython3",
   "version": "3.5.5"
  }
 },
 "nbformat": 4,
 "nbformat_minor": 0
}
